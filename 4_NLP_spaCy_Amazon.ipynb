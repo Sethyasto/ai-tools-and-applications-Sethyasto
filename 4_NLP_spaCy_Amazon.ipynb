{
  "nbformat": 4,
  "nbformat_minor": 0,
  "metadata": {
    "colab": {
      "provenance": [],
      "authorship_tag": "ABX9TyO1vfwEq3U8vq051tEyN0lw",
      "include_colab_link": true
    },
    "kernelspec": {
      "name": "python3",
      "display_name": "Python 3"
    },
    "language_info": {
      "name": "python"
    }
  },
  "cells": [
    {
      "cell_type": "markdown",
      "metadata": {
        "id": "view-in-github",
        "colab_type": "text"
      },
      "source": [
        "<a href=\"https://colab.research.google.com/github/Sethyasto/ai-tools-and-applications-Sethyasto/blob/main/4_NLP_spaCy_Amazon.ipynb\" target=\"_parent\"><img src=\"https://colab.research.google.com/assets/colab-badge.svg\" alt=\"Open In Colab\"/></a>"
      ]
    },
    {
      "cell_type": "code",
      "execution_count": 1,
      "metadata": {
        "colab": {
          "base_uri": "https://localhost:8080/"
        },
        "id": "1EY1vDAXRsEc",
        "outputId": "c99ce470-1525-4bb5-8d83-465d1eb0b1f4"
      },
      "outputs": [
        {
          "output_type": "stream",
          "name": "stdout",
          "text": [
            "\n",
            "Review: I love my new Apple iPhone 13! The battery life is amazing.\n",
            "Named Entities:\n",
            " - Apple (ORG)\n",
            " - 13 (CARDINAL)\n",
            "Sentiment: positive\n",
            "\n",
            "Review: Samsung Galaxy earbuds broke after a week. Disappointed.\n",
            "Named Entities:\n",
            " - Samsung Galaxy (ORG)\n",
            " - a week (DATE)\n",
            "Sentiment: negative\n",
            "\n",
            "Review: The Sony WH-1000XM4 are the best headphones I've ever used.\n",
            "Named Entities:\n",
            " - The Sony WH-1000XM4 (LAW)\n",
            "Sentiment: positive\n"
          ]
        }
      ],
      "source": [
        "import spacy\n",
        "nlp = spacy.load(\"en_core_web_sm\")\n",
        "\n",
        "reviews = [\n",
        "    \"I love my new Apple iPhone 13! The battery life is amazing.\",\n",
        "    \"Samsung Galaxy earbuds broke after a week. Disappointed.\",\n",
        "    \"The Sony WH-1000XM4 are the best headphones I've ever used.\"\n",
        "]\n",
        "\n",
        "for review in reviews:\n",
        "    doc = nlp(review)\n",
        "    print(f\"\\nReview: {review}\")\n",
        "    print(\"Named Entities:\")\n",
        "    for ent in doc.ents:\n",
        "        print(f\" - {ent.text} ({ent.label_})\")\n",
        "\n",
        "    sentiment = \"positive\" if \"love\" in review.lower() or \"best\" in review.lower() else \"negative\"\n",
        "    print(\"Sentiment:\", sentiment)\n"
      ]
    },
    {
      "cell_type": "code",
      "source": [],
      "metadata": {
        "id": "_GBgAkUkR0dl"
      },
      "execution_count": null,
      "outputs": []
    }
  ]
}