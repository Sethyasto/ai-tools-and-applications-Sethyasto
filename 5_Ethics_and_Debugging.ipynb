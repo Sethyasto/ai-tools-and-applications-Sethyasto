{
  "nbformat": 4,
  "nbformat_minor": 0,
  "metadata": {
    "colab": {
      "provenance": [],
      "authorship_tag": "ABX9TyMBKgQ7mKj8/SlHBk7DxR2H",
      "include_colab_link": true
    },
    "kernelspec": {
      "name": "python3",
      "display_name": "Python 3"
    },
    "language_info": {
      "name": "python"
    }
  },
  "cells": [
    {
      "cell_type": "markdown",
      "metadata": {
        "id": "view-in-github",
        "colab_type": "text"
      },
      "source": [
        "<a href=\"https://colab.research.google.com/github/Sethyasto/ai-tools-and-applications-Sethyasto/blob/main/5_Ethics_and_Debugging.ipynb\" target=\"_parent\"><img src=\"https://colab.research.google.com/assets/colab-badge.svg\" alt=\"Open In Colab\"/></a>"
      ]
    },
    {
      "cell_type": "markdown",
      "source": [],
      "metadata": {
        "id": "pEB1crvTTcuo"
      }
    },
    {
      "cell_type": "markdown",
      "source": [
        "**Bias in MNIST Model**\n",
        "\n",
        "- Potential bias: Over-representation of certain digits (e.g., more \"1\" or \"0\").\n",
        "- Mitigation:\n",
        "  - Use `TensorFlow Fairness Indicators` to monitor performance across digit classes.\n",
        "  - Augment underrepresented digits using image transformations.\n",
        "\n",
        "**Bias in spaCy NER:**\n",
        "- May not recognize local brands/products if they’re not in the training data.\n",
        "- Mitigation: Add custom NER rules or train on local product datasets.\n"
      ],
      "metadata": {
        "id": "8jRHZmtsTf7v"
      }
    },
    {
      "cell_type": "markdown",
      "source": [
        "# Buggy: wrong loss and missing flatten\n",
        "# Fixed:\n",
        "model = tf.keras.models.Sequential([\n",
        "    tf.keras.layers.Flatten(input_shape=(28,28)),\n",
        "    tf.keras.layers.Dense(128, activation='relu'),\n",
        "    tf.keras.layers.Dense(10, activation='softmax')\n",
        "])\n",
        "model.compile(optimizer='adam', loss='sparse_categorical_crossentropy', metrics=['accuracy'])\n"
      ],
      "metadata": {
        "id": "HruLCSECTjBg"
      }
    },
    {
      "cell_type": "markdown",
      "source": [],
      "metadata": {
        "id": "S5E8CcfQTaHy"
      }
    }
  ]
}